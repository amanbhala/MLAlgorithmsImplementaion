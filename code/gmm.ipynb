{
  "cells": [
    {
      "cell_type": "code",
      "execution_count": 18,
      "metadata": {
        "id": "Bf4JadimGWzk"
      },
      "outputs": [],
      "source": [
        "from mnist import MNIST\n",
        "from matplotlib import pyplot as plot\n",
        "import numpy as np\n",
        "import random as random\n",
        "import pandas as pd\n",
        "from collections import Counter\n",
        "from sklearn.metrics import silhouette_score, davies_bouldin_score\n"
      ]
    },
    {
      "cell_type": "code",
      "execution_count": 3,
      "metadata": {},
      "outputs": [],
      "source": [
        "df = pd.read_csv(\"CSE575-HW03-Data.csv\", header=None)\n",
        "data = df.to_numpy()"
      ]
    },
    {
      "cell_type": "code",
      "execution_count": 6,
      "metadata": {},
      "outputs": [],
      "source": [
        "def loss(data, clusters):\n",
        "    total_loss = 0\n",
        "    \n",
        "    # Calculate distances and assign points to clusters\n",
        "    for point in data:\n",
        "        distances = [np.linalg.norm(cluster[\"center\"] - point) for cluster in clusters.values()]\n",
        "        cluster_index = np.argmin(distances)\n",
        "        clusters[list(clusters.keys())[cluster_index]][\"points\"].append(point)\n",
        "    \n",
        "    # Calculate the total loss\n",
        "    for index, cluster in clusters.items():\n",
        "        distances_to_center = np.linalg.norm(np.array(cluster[\"points\"]) - cluster[\"center\"], axis=1)\n",
        "        total_loss += np.sum(distances_to_center ** 2)\n",
        "    \n",
        "    return total_loss\n"
      ]
    },
    {
      "cell_type": "code",
      "execution_count": 17,
      "metadata": {},
      "outputs": [
        {
          "name": "stdout",
          "output_type": "stream",
          "text": [
            "[29098.40468444, 19047.653039327466, 18303.800798926255, 17691.911186443394, 17577.87162366786, 17517.48331925467, 17495.109127996482, 17488.957285790137, 17488.957285790137]\n"
          ]
        }
      ],
      "source": [
        "k = 2\n",
        "k_loss = {}\n",
        "clusters = {}\n",
        "for i in range(k):\n",
        "    cluster_center_index = random.randrange(int(i * 128 / k), int((i+1) * 128/ k))\n",
        "    clusters[i] = {\"center\": data[cluster_center_index], \"points\": []}\n",
        "l = loss(data, clusters)\n",
        "\n",
        "k_loss[k] = [l]\n",
        "while True:\n",
        "    prev_cluster = clusters\n",
        "    for index in clusters:\n",
        "        clusters[index][\"center\"] = np.mean(clusters[index][\"points\"], axis = 0)\n",
        "        clusters[index][\"points\"] = []\n",
        "    prev_loss = l\n",
        "    l = loss(data, clusters)\n",
        "    k_loss[k].append(l)\n",
        "    if l >= prev_loss :\n",
        "        clusters = prev_cluster\n",
        "        break\n",
        "for k in k_loss:\n",
        "    l = []\n",
        "    for i in range(1, len(k_loss[k]) + 1):\n",
        "        l.append(i)\n",
        "for index in clusters:\n",
        "    clusters[index][\"cov\"] = np.identity(data.shape[1], dtype=np.float64)\n",
        "    clusters[index][\"mu\"] = clusters[index][\"center\"]\n",
        "    clusters[index][\"pi\"] = 1.0/k\n",
        "    del clusters[index][\"center\"]\n",
        "\n",
        "print(k_loss[2])"
      ]
    },
    {
      "cell_type": "code",
      "execution_count": 8,
      "metadata": {},
      "outputs": [],
      "source": [
        "def gaussian(X, mu, cov):\n",
        "    n = X.shape[1]\n",
        "    diff = (X - mu).T\n",
        "    return np.diagonal(1 / ((2 * np.pi) ** (n / 2) * np.linalg.det(cov) ** 0.5) * np.exp(-0.5 * np.dot(np.dot(diff.T, np.linalg.inv(cov)), diff))).reshape(-1, 1)"
      ]
    },
    {
      "cell_type": "code",
      "execution_count": 10,
      "metadata": {},
      "outputs": [],
      "source": [
        "def mixture(data, clusters):\n",
        "    totals = np.zeros((data.shape[0], 1), dtype=np.float64)\n",
        "    for index in clusters:\n",
        "        pi = clusters[index][\"pi\"]\n",
        "        mu = clusters[index][\"mu\"]\n",
        "        cov = clusters[index][\"cov\"]\n",
        "        gamma = (pi * gaussian(data, mu, cov))\n",
        "        for i in range(len(data)):\n",
        "            totals[i] += gamma[i]\n",
        "        clusters[index][\"gamma\"] = gamma \n",
        "        clusters[index][\"totals\"] = totals \n",
        "    for index in clusters:\n",
        "        clusters[index][\"gamma\"] /= clusters[index][\"totals\"]\n",
        "    N = float(len(data))\n",
        "    for index in clusters:\n",
        "        gamma = clusters[index][\"gamma\"]\n",
        "        n = np.sum(gamma, axis = 0)\n",
        "        pi = n/N\n",
        "        mu = np.sum(gamma * data, axis = 0) / n\n",
        "        cov = np.zeros((data.shape[1], data.shape[1]))\n",
        "        for i in range(len(data)):\n",
        "            cov += gamma[i] * np.dot((data[i] - mu).reshape(-1, 1), (data[i] - mu).reshape(-1, 1).T)\n",
        "        cov = cov/n\n",
        "        clusters[index][\"pi\"] = pi\n",
        "        clusters[index][\"mu\"] = mu\n",
        "        clusters[index][\"cov\"] = cov\n",
        "    totals = []\n",
        "    for index in clusters:\n",
        "        totals.append(clusters[index][\"totals\"])\n",
        "    totals = np.array(totals)\n",
        "    l = np.log(totals)\n",
        "    return np.sum(l), l"
      ]
    },
    {
      "cell_type": "code",
      "execution_count": 11,
      "metadata": {},
      "outputs": [],
      "source": [
        "def train(data, k, clusters, n_epochs):\n",
        "    likelihoods = np.zeros((n_epochs, ))\n",
        "    scores = np.zeros((data.shape[0], k))\n",
        "\n",
        "    for i in range(n_epochs):\n",
        "        sum_l, l = mixture(data, clusters)\n",
        "        likelihoods[i] = sum_l   "
      ]
    },
    {
      "cell_type": "code",
      "execution_count": 12,
      "metadata": {},
      "outputs": [],
      "source": [
        "n_epochs = 50\n",
        "train(data, k, clusters, n_epochs)\n",
        "\n",
        "for index in clusters:\n",
        "    clusters[index][\"center\"] = clusters[index][\"mu\"]\n",
        "for point in data:\n",
        "    distances = []\n",
        "    for index in clusters:\n",
        "        d = np.sum((clusters[index][\"center\"] - point) ** 2) ** 0.5\n",
        "        distances.append(d)\n",
        "    index = np.argmin(distances)\n",
        "    clusters[index][\"points\"].append(point)"
      ]
    },
    {
      "cell_type": "code",
      "execution_count": 13,
      "metadata": {},
      "outputs": [
        {
          "data": {
            "image/png": "[encoded data removed]",
            "text/plain": [
              "<Figure size 576x576 with 1 Axes>"
            ]
          },
          "metadata": {
            "needs_background": "light"
          },
          "output_type": "display_data"
        }
      ],
      "source": [
        "plot.figure(num=None, figsize=(8, 8))\n",
        "plot.scatter(np.array(clusters[0][\"points\"])[:,:2][:,0], np.array(clusters[0][\"points\"])[:,:2][:,1], c=\"blue\", marker='o')\n",
        "plot.scatter(np.array(clusters[1][\"points\"])[:,:2][:,0], np.array(clusters[1][\"points\"])[:,:2][:,1], c=\"purple\", marker='x')\n",
        "plot.scatter([clusters[0][\"center\"][:2][0]], [clusters[0][\"center\"][:2][1]], c=\"black\", marker='.', s = 400, alpha=1)\n",
        "plot.scatter([clusters[1][\"center\"][:2][0]], [clusters[1][\"center\"][:2][1]], c=\"black\", marker='x', s = 100, alpha=1)\n",
        "plot.xlabel(\"1st feature\")\n",
        "plot.ylabel(\"2nd feature\")\n",
        "plot.show()"
      ]
    }
  ],
  "metadata": {
    "colab": {
      "provenance": []
    },
    "kernelspec": {
      "display_name": "Python 3",
      "name": "python3"
    },
    "language_info": {
      "codemirror_mode": {
        "name": "ipython",
        "version": 3
      },
      "file_extension": ".py",
      "mimetype": "text/x-python",
      "name": "python",
      "nbconvert_exporter": "python",
      "pygments_lexer": "ipython3",
      "version": "3.10.0"
    }
  },
  "nbformat": 4,
  "nbformat_minor": 0
}
