{
 "cells": [
  {
   "cell_type": "code",
   "execution_count": 1,
   "metadata": {},
   "outputs": [
    {
     "name": "stdout",
     "output_type": "stream",
     "text": [
      "Requirement already satisfied: python-mnist in /Library/Frameworks/Python.framework/Versions/3.10/lib/python3.10/site-packages (0.7)\n",
      "\u001b[33mWARNING: You are using pip version 22.0.4; however, version 23.3.2 is available.\n",
      "You should consider upgrading via the '/usr/local/bin/python3.10 -m pip install --upgrade pip' command.\u001b[0m\u001b[33m\n",
      "\u001b[0mNote: you may need to restart the kernel to use updated packages.\n"
     ]
    }
   ],
   "source": [
    "pip install python-mnist"
   ]
  },
  {
   "cell_type": "code",
   "execution_count": 2,
   "metadata": {},
   "outputs": [],
   "source": [
    "from mnist import MNIST\n",
    "from matplotlib import pyplot as plt\n",
    "import numpy as np\n",
    "import random\n",
    "from collections import Counter\n",
    "from sklearn.metrics import accuracy_score"
   ]
  },
  {
   "cell_type": "code",
   "execution_count": null,
   "metadata": {},
   "outputs": [],
   "source": [
    "# Assuming the training and testing data is present in /MNIST folder\n",
    "mndata=MNIST('/Users/amanbhala/Downloads/data')\n",
    "train_images,train_labels=mndata.load_training()\n",
    "train_images,train_labels=np.array(train_images),np.array(train_labels)"
   ]
  },
  {
   "cell_type": "code",
   "execution_count": 6,
   "metadata": {},
   "outputs": [],
   "source": [
    "test_images,test_labels=mndata.load_testing()\n",
    "test_images,test_labels=np.array(test_images),np.array(test_labels)"
   ]
  },
  {
   "cell_type": "code",
   "execution_count": 7,
   "metadata": {},
   "outputs": [],
   "source": [
    "X_train = np.asarray(train_images).astype(np.float32)\n",
    "y_train = np.asarray(train_labels).astype(np.int32)\n",
    "X_test = np.asarray(test_images).astype(np.float32)\n",
    "y_test = np.asarray(test_labels).astype(np.int32)"
   ]
  },
  {
   "cell_type": "code",
   "execution_count": 9,
   "metadata": {},
   "outputs": [],
   "source": [
    "class kNN():\n",
    "\n",
    "    def _init_(self):\n",
    "        pass\n",
    "\n",
    "    def train(self, input_data, target_data):\n",
    "        if input_data is None or target_data is None:\n",
    "            raise ValueError(\"Input data or target data cannot be None.\")\n",
    "        \n",
    "        self.X_train = input_data\n",
    "        self.y_train = target_data\n",
    "\n",
    "    def euclidean_distance(self, X):\n",
    "        dot_product = np.dot(X, self.X_train.T)\n",
    "        square_test = np.square(X).sum(axis=1)\n",
    "        square_train = np.square(self.X_train).sum(axis=1)\n",
    "        \n",
    "        distance = np.sqrt(-2 * dot_product + square_train + square_test.reshape(-1, 1))\n",
    "        \n",
    "        print(distance.shape)\n",
    "        return distance\n",
    "\n",
    "\n",
    "    def predict(self, dist_l, k=1):\n",
    "        num_test = dist_l.shape[0]\n",
    "        y_predicted_label = np.zeros(num_test)\n",
    "\n",
    "        for i in range(num_test):\n",
    "            k_closest_labels = []\n",
    "            labels = self.y_train[np.argsort(dist_l[i, :])].flatten()\n",
    "            # find k nearest lables\n",
    "            k_closest_labels = labels[:k]\n",
    "            c = Counter(k_closest_labels)\n",
    "            y_predicted_label[i] = c.most_common(1)[0][0]\n",
    "            \n",
    "        return (y_predicted_label)"
   ]
  },
  {
   "cell_type": "code",
   "execution_count": 10,
   "metadata": {},
   "outputs": [
    {
     "name": "stdout",
     "output_type": "stream",
     "text": [
      "(10000, 60000)\n",
      "K value 1\n",
      "0.9691\n",
      "K value 3\n",
      "0.9717\n",
      "K value 5\n",
      "0.9693\n",
      "K value 10\n",
      "0.9683\n",
      "K value 20\n",
      "0.9631\n",
      "K value 30\n",
      "0.9603\n",
      "K value 40\n",
      "0.9568\n",
      "K value 50\n",
      "0.9544\n",
      "K value 60\n",
      "0.9522\n"
     ]
    }
   ],
   "source": [
    "k_values = [1, 3, 5, 10, 20, 30, 40, 50, 60]\n",
    "accuracy = []\n",
    "batch_size = 2500\n",
    "classifier = kNN()\n",
    "classifier.train(X_train, y_train)\n",
    "dist_l = classifier.euclidean_distance(X_test)\n",
    "for k in k_values:\n",
    "    predictions = []\n",
    "    print(\"K value\",k)\n",
    "    for i in range(int(len(X_test) / (batch_size))):\n",
    "        pred = classifier.predict(dist_l[i * batch_size:(i + 1) * batch_size], k)\n",
    "        predictions = predictions + list(pred)\n",
    "    \n",
    "    cnt = 0\n",
    "    for i in range(len(predictions)):\n",
    "        if y_test[i] == predictions[i]:\n",
    "            cnt += 1\n",
    "    # Calculating accuracy \n",
    "    accuracy.append((cnt / len(predictions)))\n",
    "    print(cnt / len(predictions))"
   ]
  },
  {
   "cell_type": "code",
   "execution_count": 11,
   "metadata": {},
   "outputs": [
    {
     "data": {
      "image/png": "[encoded data removed]",
      "text/plain": [
       "<Figure size 432x288 with 1 Axes>"
      ]
     },
     "metadata": {
      "needs_background": "light"
     },
     "output_type": "display_data"
    }
   ],
   "source": [
    "plt.plot(k_values, accuracy, 'X-', color='blue')\n",
    "plt.xlabel('K')\n",
    "plt.ylabel('Accuracy')\n",
    "plt.title('Handwritten digits recognition with K-NN Plot')\n",
    "plt.savefig(\"HW3_Q1.png\")\n",
    "plt.show()"
   ]
  }
 ],
 "metadata": {
  "kernelspec": {
   "display_name": "Python 3.11.0 64-bit",
   "language": "python",
   "name": "python3"
  },
  "language_info": {
   "codemirror_mode": {
    "name": "ipython",
    "version": 3
   },
   "file_extension": ".py",
   "mimetype": "text/x-python",
   "name": "python",
   "nbconvert_exporter": "python",
   "pygments_lexer": "ipython3",
   "version": "3.10.0"
  },
  "orig_nbformat": 4,
  "vscode": {
   "interpreter": {
    "hash": "b0e3f961e3ab3bd7312cd8743cbe8d4d7dd30c8215255462216160fe2bc78452"
   }
  }
 },
 "nbformat": 4,
 "nbformat_minor": 2
}
