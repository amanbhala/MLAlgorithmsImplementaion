{
  "cells": [
    {
      "cell_type": "code",
      "execution_count": 1,
      "metadata": {
        "id": "KF_GetXRhen_"
      },
      "outputs": [],
      "source": [
        "import pandas as pd\n",
        "import random as random\n",
        "import numpy as np\n",
        "import matplotlib.pyplot as plot"
      ]
    },
    {
      "cell_type": "code",
      "execution_count": 4,
      "metadata": {
        "id": "496VtcqWheoA"
      },
      "outputs": [],
      "source": [
        "DATA_PATH = \"./CSE575-HW03-Data.csv\""
      ]
    },
    {
      "cell_type": "code",
      "execution_count": 5,
      "metadata": {
        "id": "lVaenXopheoB"
      },
      "outputs": [],
      "source": [
        "#pd.options.display.max_rows = 128\n",
        "dataFrame = pd.read_csv(DATA_PATH, header=None)\n",
        "data = dataFrame.to_numpy()"
      ]
    },
    {
      "cell_type": "code",
      "execution_count": 6,
      "metadata": {
        "colab": {
          "base_uri": "https://localhost:8080/",
          "height": 424
        },
        "id": "69G9P0LjheoB",
        "outputId": "8211eb21-645c-4200-eb8e-dca36a304d77"
      },
      "outputs": [
        {
          "data": {
            "text/html": [
              "<div>\n",
              "<style scoped>\n",
              "    .dataframe tbody tr th:only-of-type {\n",
              "        vertical-align: middle;\n",
              "    }\n",
              "\n",
              "    .dataframe tbody tr th {\n",
              "        vertical-align: top;\n",
              "    }\n",
              "\n",
              "    .dataframe thead th {\n",
              "        text-align: right;\n",
              "    }\n",
              "</style>\n",
              "<table border=\"1\" class=\"dataframe\">\n",
              "  <thead>\n",
              "    <tr style=\"text-align: right;\">\n",
              "      <th></th>\n",
              "      <th>0</th>\n",
              "      <th>1</th>\n",
              "      <th>2</th>\n",
              "      <th>3</th>\n",
              "      <th>4</th>\n",
              "      <th>5</th>\n",
              "      <th>6</th>\n",
              "      <th>7</th>\n",
              "      <th>8</th>\n",
              "      <th>9</th>\n",
              "      <th>10</th>\n",
              "      <th>11</th>\n",
              "      <th>12</th>\n",
              "    </tr>\n",
              "  </thead>\n",
              "  <tbody>\n",
              "    <tr>\n",
              "      <th>0</th>\n",
              "      <td>92.9894</td>\n",
              "      <td>-9.6430</td>\n",
              "      <td>-4.6412</td>\n",
              "      <td>-6.8569</td>\n",
              "      <td>-5.2263</td>\n",
              "      <td>-4.9604</td>\n",
              "      <td>2.3191</td>\n",
              "      <td>-0.4579</td>\n",
              "      <td>0.5685</td>\n",
              "      <td>1.8047</td>\n",
              "      <td>2.6274</td>\n",
              "      <td>5.2223</td>\n",
              "      <td>6.5404</td>\n",
              "    </tr>\n",
              "    <tr>\n",
              "      <th>1</th>\n",
              "      <td>73.4054</td>\n",
              "      <td>6.5269</td>\n",
              "      <td>-6.6736</td>\n",
              "      <td>0.5054</td>\n",
              "      <td>-4.4818</td>\n",
              "      <td>-5.1157</td>\n",
              "      <td>-6.3784</td>\n",
              "      <td>1.6296</td>\n",
              "      <td>-3.3999</td>\n",
              "      <td>0.0652</td>\n",
              "      <td>-2.5042</td>\n",
              "      <td>1.7626</td>\n",
              "      <td>-1.0612</td>\n",
              "    </tr>\n",
              "    <tr>\n",
              "      <th>2</th>\n",
              "      <td>94.6334</td>\n",
              "      <td>-4.5986</td>\n",
              "      <td>-12.4970</td>\n",
              "      <td>-6.3137</td>\n",
              "      <td>-6.7072</td>\n",
              "      <td>-7.4690</td>\n",
              "      <td>-6.7463</td>\n",
              "      <td>-3.6960</td>\n",
              "      <td>-3.4587</td>\n",
              "      <td>-1.4178</td>\n",
              "      <td>-1.3265</td>\n",
              "      <td>1.8756</td>\n",
              "      <td>0.6391</td>\n",
              "    </tr>\n",
              "    <tr>\n",
              "      <th>3</th>\n",
              "      <td>89.1135</td>\n",
              "      <td>-2.2287</td>\n",
              "      <td>0.2304</td>\n",
              "      <td>-2.7300</td>\n",
              "      <td>-0.9133</td>\n",
              "      <td>-1.9530</td>\n",
              "      <td>-1.0086</td>\n",
              "      <td>0.1486</td>\n",
              "      <td>2.0624</td>\n",
              "      <td>1.1938</td>\n",
              "      <td>-1.0113</td>\n",
              "      <td>0.1567</td>\n",
              "      <td>-1.2346</td>\n",
              "    </tr>\n",
              "    <tr>\n",
              "      <th>4</th>\n",
              "      <td>76.1929</td>\n",
              "      <td>2.5222</td>\n",
              "      <td>9.1796</td>\n",
              "      <td>4.3947</td>\n",
              "      <td>6.6885</td>\n",
              "      <td>4.0074</td>\n",
              "      <td>1.9488</td>\n",
              "      <td>2.2791</td>\n",
              "      <td>-0.2567</td>\n",
              "      <td>2.8208</td>\n",
              "      <td>-2.9867</td>\n",
              "      <td>-3.6861</td>\n",
              "      <td>-2.2471</td>\n",
              "    </tr>\n",
              "    <tr>\n",
              "      <th>...</th>\n",
              "      <td>...</td>\n",
              "      <td>...</td>\n",
              "      <td>...</td>\n",
              "      <td>...</td>\n",
              "      <td>...</td>\n",
              "      <td>...</td>\n",
              "      <td>...</td>\n",
              "      <td>...</td>\n",
              "      <td>...</td>\n",
              "      <td>...</td>\n",
              "      <td>...</td>\n",
              "      <td>...</td>\n",
              "      <td>...</td>\n",
              "    </tr>\n",
              "    <tr>\n",
              "      <th>123</th>\n",
              "      <td>86.5598</td>\n",
              "      <td>-4.0067</td>\n",
              "      <td>0.7036</td>\n",
              "      <td>1.3357</td>\n",
              "      <td>-6.9007</td>\n",
              "      <td>0.8063</td>\n",
              "      <td>-0.4726</td>\n",
              "      <td>-0.2890</td>\n",
              "      <td>-1.3798</td>\n",
              "      <td>3.1221</td>\n",
              "      <td>-2.5924</td>\n",
              "      <td>1.8249</td>\n",
              "      <td>-6.1399</td>\n",
              "    </tr>\n",
              "    <tr>\n",
              "      <th>124</th>\n",
              "      <td>83.8025</td>\n",
              "      <td>-3.4814</td>\n",
              "      <td>3.5016</td>\n",
              "      <td>-0.2959</td>\n",
              "      <td>-7.0385</td>\n",
              "      <td>2.3506</td>\n",
              "      <td>-3.7101</td>\n",
              "      <td>3.5613</td>\n",
              "      <td>-1.5063</td>\n",
              "      <td>3.9646</td>\n",
              "      <td>0.3750</td>\n",
              "      <td>0.8998</td>\n",
              "      <td>-1.9977</td>\n",
              "    </tr>\n",
              "    <tr>\n",
              "      <th>125</th>\n",
              "      <td>79.5542</td>\n",
              "      <td>-3.4625</td>\n",
              "      <td>-1.1868</td>\n",
              "      <td>2.6972</td>\n",
              "      <td>-6.5663</td>\n",
              "      <td>2.2622</td>\n",
              "      <td>-2.6907</td>\n",
              "      <td>3.2315</td>\n",
              "      <td>-3.5141</td>\n",
              "      <td>0.4649</td>\n",
              "      <td>-3.1912</td>\n",
              "      <td>0.9381</td>\n",
              "      <td>-3.8443</td>\n",
              "    </tr>\n",
              "    <tr>\n",
              "      <th>126</th>\n",
              "      <td>84.3496</td>\n",
              "      <td>-2.7338</td>\n",
              "      <td>-1.3004</td>\n",
              "      <td>2.2604</td>\n",
              "      <td>-6.9315</td>\n",
              "      <td>0.1138</td>\n",
              "      <td>-3.1434</td>\n",
              "      <td>1.6895</td>\n",
              "      <td>-3.1004</td>\n",
              "      <td>2.2891</td>\n",
              "      <td>0.2254</td>\n",
              "      <td>2.0268</td>\n",
              "      <td>-1.5204</td>\n",
              "    </tr>\n",
              "    <tr>\n",
              "      <th>127</th>\n",
              "      <td>76.0285</td>\n",
              "      <td>-1.3821</td>\n",
              "      <td>5.1412</td>\n",
              "      <td>1.8667</td>\n",
              "      <td>0.0313</td>\n",
              "      <td>-0.0508</td>\n",
              "      <td>1.6752</td>\n",
              "      <td>-0.8004</td>\n",
              "      <td>-0.2574</td>\n",
              "      <td>-0.6708</td>\n",
              "      <td>1.2295</td>\n",
              "      <td>-0.5738</td>\n",
              "      <td>2.8312</td>\n",
              "    </tr>\n",
              "  </tbody>\n",
              "</table>\n",
              "<p>128 rows × 13 columns</p>\n",
              "</div>"
            ],
            "text/plain": [
              "          0       1        2       3       4       5       6       7       8   \\\n",
              "0    92.9894 -9.6430  -4.6412 -6.8569 -5.2263 -4.9604  2.3191 -0.4579  0.5685   \n",
              "1    73.4054  6.5269  -6.6736  0.5054 -4.4818 -5.1157 -6.3784  1.6296 -3.3999   \n",
              "2    94.6334 -4.5986 -12.4970 -6.3137 -6.7072 -7.4690 -6.7463 -3.6960 -3.4587   \n",
              "3    89.1135 -2.2287   0.2304 -2.7300 -0.9133 -1.9530 -1.0086  0.1486  2.0624   \n",
              "4    76.1929  2.5222   9.1796  4.3947  6.6885  4.0074  1.9488  2.2791 -0.2567   \n",
              "..       ...     ...      ...     ...     ...     ...     ...     ...     ...   \n",
              "123  86.5598 -4.0067   0.7036  1.3357 -6.9007  0.8063 -0.4726 -0.2890 -1.3798   \n",
              "124  83.8025 -3.4814   3.5016 -0.2959 -7.0385  2.3506 -3.7101  3.5613 -1.5063   \n",
              "125  79.5542 -3.4625  -1.1868  2.6972 -6.5663  2.2622 -2.6907  3.2315 -3.5141   \n",
              "126  84.3496 -2.7338  -1.3004  2.2604 -6.9315  0.1138 -3.1434  1.6895 -3.1004   \n",
              "127  76.0285 -1.3821   5.1412  1.8667  0.0313 -0.0508  1.6752 -0.8004 -0.2574   \n",
              "\n",
              "         9       10      11      12  \n",
              "0    1.8047  2.6274  5.2223  6.5404  \n",
              "1    0.0652 -2.5042  1.7626 -1.0612  \n",
              "2   -1.4178 -1.3265  1.8756  0.6391  \n",
              "3    1.1938 -1.0113  0.1567 -1.2346  \n",
              "4    2.8208 -2.9867 -3.6861 -2.2471  \n",
              "..      ...     ...     ...     ...  \n",
              "123  3.1221 -2.5924  1.8249 -6.1399  \n",
              "124  3.9646  0.3750  0.8998 -1.9977  \n",
              "125  0.4649 -3.1912  0.9381 -3.8443  \n",
              "126  2.2891  0.2254  2.0268 -1.5204  \n",
              "127 -0.6708  1.2295 -0.5738  2.8312  \n",
              "\n",
              "[128 rows x 13 columns]"
            ]
          },
          "execution_count": 6,
          "metadata": {},
          "output_type": "execute_result"
        }
      ],
      "source": [
        "dataFrame"
      ]
    },
    {
      "cell_type": "code",
      "execution_count": 7,
      "metadata": {
        "colab": {
          "base_uri": "https://localhost:8080/"
        },
        "id": "iYTv7GqKheoB",
        "outputId": "49005e9b-fe35-4c18-e3cc-a3541a558d92"
      },
      "outputs": [
        {
          "data": {
            "text/plain": [
              "(128, 13)"
            ]
          },
          "execution_count": 7,
          "metadata": {},
          "output_type": "execute_result"
        }
      ],
      "source": [
        "data.shape"
      ]
    },
    {
      "cell_type": "code",
      "execution_count": 8,
      "metadata": {
        "colab": {
          "base_uri": "https://localhost:8080/"
        },
        "id": "n9-3U32DjGsJ",
        "outputId": "198032a6-335e-4cfd-b64f-5aa6b8da70ef"
      },
      "outputs": [
        {
          "data": {
            "text/plain": [
              "0     0\n",
              "1     0\n",
              "2     0\n",
              "3     0\n",
              "4     0\n",
              "5     0\n",
              "6     0\n",
              "7     0\n",
              "8     0\n",
              "9     0\n",
              "10    0\n",
              "11    0\n",
              "12    0\n",
              "dtype: int64"
            ]
          },
          "execution_count": 8,
          "metadata": {},
          "output_type": "execute_result"
        }
      ],
      "source": [
        "# Check for null values in the dataset\n",
        "dataFrame.isnull().sum()"
      ]
    },
    {
      "cell_type": "code",
      "execution_count": 9,
      "metadata": {},
      "outputs": [],
      "source": [
        "def loss(data, clusters):\n",
        "    total_loss = 0\n",
        "    \n",
        "    # Calculate distances and assign points to clusters\n",
        "    for point in data:\n",
        "        distances = [np.linalg.norm(cluster[\"center\"] - point) for cluster in clusters.values()]\n",
        "        cluster_index = np.argmin(distances)\n",
        "        clusters[list(clusters.keys())[cluster_index]][\"points\"].append(point)\n",
        "    \n",
        "    # Calculate the total loss\n",
        "    for index, cluster in clusters.items():\n",
        "        distances_to_center = np.linalg.norm(np.array(cluster[\"points\"]) - cluster[\"center\"], axis=1)\n",
        "        total_loss += np.sum(distances_to_center ** 2)\n",
        "    \n",
        "    return total_loss\n"
      ]
    },
    {
      "cell_type": "code",
      "execution_count": 10,
      "metadata": {},
      "outputs": [],
      "source": [
        "K = [2, 3, 4, 5, 6, 7, 8, 9]\n",
        "k_cluster = {}\n",
        "k_loss = {}\n",
        "for k in K:\n",
        "    clusters = {}\n",
        "    for i in range(k):\n",
        "        center_index = random.randrange(int(i * 128 / k), int((i+1) * 128/ k))\n",
        "        clusters[i] = {\"center\": data[center_index], \"points\": []}\n",
        "    l = loss(data, clusters)\n",
        "    k_loss[k] = [l]\n",
        "    while True:\n",
        "        prev_cluster = clusters\n",
        "        for index in clusters:\n",
        "            clusters[index][\"center\"] = np.mean(clusters[index][\"points\"], axis = 0)\n",
        "            clusters[index][\"points\"] = []\n",
        "        prev_loss = l\n",
        "        l = loss(data, clusters)\n",
        "        k_loss[k].append(l)\n",
        "        if l >= prev_loss :\n",
        "            k_cluster[k] = prev_cluster\n",
        "            break"
      ]
    },
    {
      "cell_type": "code",
      "execution_count": 13,
      "metadata": {},
      "outputs": [
        {
          "data": {
            "image/png": "[encoded data removed]",
            "text/plain": [
              "<Figure size 576x576 with 1 Axes>"
            ]
          },
          "metadata": {
            "needs_background": "light"
          },
          "output_type": "display_data"
        }
      ],
      "source": [
        "X = []\n",
        "for i in k_loss.keys():\n",
        "    X.append(i)\n",
        "Y = []\n",
        "for i in X:\n",
        "    Y.append(k_loss[i][-2])  \n",
        "plot.figure(num=None, figsize=(8, 8))\n",
        "plot.plot(X, Y, color='red', marker='x')\n",
        "for i in range(len(X)):\n",
        "    s = \"(\" + str(X[i]) + \", \" + str(round(Y[i],2)) + \")\"\n",
        "    plot.text(X[i] + 0.1, Y[i]-0.02, s, fontsize=7)\n",
        "plot.title(\"Objective Function (J)\")\n",
        "plot.xlabel(\"Number of clusters (k)\")\n",
        "plot.ylabel(\"Loss\")\n",
        "plot.savefig(\"HW3_Q2(1).png\")\n",
        "plot.show()"
      ]
    },
    {
      "cell_type": "code",
      "execution_count": 15,
      "metadata": {},
      "outputs": [
        {
          "data": {
            "image/png": "[encoded data removed]",
            "text/plain": [
              "<Figure size 576x576 with 1 Axes>"
            ]
          },
          "metadata": {
            "needs_background": "light"
          },
          "output_type": "display_data"
        }
      ],
      "source": [
        "plot.figure(num=None, figsize=(8, 8))\n",
        "plot.scatter(np.array(k_cluster[2][0][\"points\"])[:,:2][:,0], np.array(k_cluster[2][0][\"points\"])[:,:2][:,1], c=\"blue\", marker='x')\n",
        "plot.scatter(np.array(k_cluster[2][1][\"points\"])[:,:2][:,0], np.array(k_cluster[2][1][\"points\"])[:,:2][:,1], c=\"red\", marker='x')\n",
        "plot.scatter([k_cluster[2][0][\"center\"][:2][0]], [k_cluster[2][0][\"center\"][:2][1]], c=\"black\", marker='.', s = 400, alpha=1)\n",
        "plot.scatter([k_cluster[2][1][\"center\"][:2][0]], [k_cluster[2][1][\"center\"][:2][1]], c=\"black\", marker='.', s = 400, alpha=1)\n",
        "plot.title(\"K = 2\")\n",
        "plot.xlabel(\"Feature 1\")\n",
        "plot.ylabel(\"Feature 2\")\n",
        "# plot.savefig(\"HW3_Q2(2).png\")\n",
        "plot.show()"
      ]
    },
    {
      "cell_type": "code",
      "execution_count": 12,
      "metadata": {
        "colab": {
          "base_uri": "https://localhost:8080/",
          "height": 564
        },
        "id": "KUkRLWOe7GpU",
        "outputId": "809b10de-99fa-4b97-a7e0-b12eb8d83467"
      },
      "outputs": [
        {
          "data": {
            "image/png": "[encoded data removed]",
            "text/plain": [
              "<Figure size 576x432 with 1 Axes>"
            ]
          },
          "metadata": {
            "needs_background": "light"
          },
          "output_type": "display_data"
        }
      ],
      "source": [
        "# # Plotting the graph of inertia vs. K\n",
        "# plot.figure(figsize=(8, 6))\n",
        "# plot.plot(k_values, inertia_values, marker='o')\n",
        "# plot.title('Inertia vs. K in K-means Clustering')\n",
        "# plot.xlabel('Number of Clusters (K)')\n",
        "# plot.ylabel('Inertia')\n",
        "# plot.xticks(np.arange(2, 10))\n",
        "# plot.grid(True)\n",
        "# plot.show()"
      ]
    },
    {
      "cell_type": "code",
      "execution_count": 16,
      "metadata": {
        "colab": {
          "base_uri": "https://localhost:8080/",
          "height": 564
        },
        "id": "EkYx__Ry7e1x",
        "outputId": "041cd990-c03b-4bf8-bfb7-1241bd96cd81"
      },
      "outputs": [
        {
          "data": {
            "image/png": "[encoded data removed]",
            "text/plain": [
              "<Figure size 576x432 with 1 Axes>"
            ]
          },
          "metadata": {
            "needs_background": "light"
          },
          "output_type": "display_data"
        }
      ],
      "source": [
        "# plot.figure(figsize=(8, 6))\n",
        "# plot.scatter(cluster_1[:, 0], cluster_1[:, 1], color='blue', label='Cluster 1')\n",
        "# plot.scatter(cluster_2[:, 0], cluster_2[:, 1], color='red', label='Cluster 2')\n",
        "# plot.title('K-means Clustering (K = 2) - First Two Features')\n",
        "# plot.xlabel('Feature 1')\n",
        "# plot.ylabel('Feature 2')\n",
        "# plot.legend()\n",
        "# plot.show()"
      ]
    }
  ],
  "metadata": {
    "colab": {
      "provenance": []
    },
    "kernelspec": {
      "display_name": "Python 3 (ipykernel)",
      "language": "python",
      "name": "python3"
    },
    "language_info": {
      "codemirror_mode": {
        "name": "ipython",
        "version": 3
      },
      "file_extension": ".py",
      "mimetype": "text/x-python",
      "name": "python",
      "nbconvert_exporter": "python",
      "pygments_lexer": "ipython3",
      "version": "3.10.0"
    }
  },
  "nbformat": 4,
  "nbformat_minor": 0
}
